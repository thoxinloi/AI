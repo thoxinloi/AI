{
  "nbformat": 4,
  "nbformat_minor": 0,
  "metadata": {
    "colab": {
      "provenance": [],
      "authorship_tag": "ABX9TyN1X0grYNlzlkCvf0/JqTa2",
      "include_colab_link": true
    },
    "kernelspec": {
      "name": "python3",
      "display_name": "Python 3"
    },
    "language_info": {
      "name": "python"
    }
  },
  "cells": [
    {
      "cell_type": "markdown",
      "metadata": {
        "id": "view-in-github",
        "colab_type": "text"
      },
      "source": [
        "<a href=\"https://colab.research.google.com/github/thoxinloi/ai/blob/main/W8_20_3_2023.ipynb\" target=\"_parent\"><img src=\"https://colab.research.google.com/assets/colab-badge.svg\" alt=\"Open In Colab\"/></a>"
      ]
    },
    {
      "cell_type": "code",
      "execution_count": null,
      "metadata": {
        "colab": {
          "base_uri": "https://localhost:8080/"
        },
        "id": "8o9BhDFxsoFy",
        "outputId": "3dbc9f72-b097-4dc3-b688-4554a7809d0f"
      },
      "outputs": [
        {
          "output_type": "execute_result",
          "data": {
            "text/plain": [
              "1.0"
            ]
          },
          "metadata": {},
          "execution_count": 16
        }
      ],
      "source": [
        "import numpy as np\n",
        "from sklearn.linear_model import Perceptron\n",
        "x=[[-0.5,-0.5],[-0.5,0.5],[0.3,-0.5],[-0.1,1]]\n",
        "t=[1,1,0,0]\n",
        "model=Perceptron()\n",
        "model.fit(x,t)\n",
        "model.score(x,t)"
      ]
    },
    {
      "cell_type": "code",
      "source": [
        "x1=[[0.5,0.5],[-0.3,-0.5],[10,2.3],[-1,-2]]\n",
        "y1=model.predict(x1)\n",
        "model.score(x1,y1)\n",
        "print(y1)"
      ],
      "metadata": {
        "colab": {
          "base_uri": "https://localhost:8080/"
        },
        "id": "UJMwsdWwxqPe",
        "outputId": "c48049ad-8706-4db8-c734-8cc589ef528e"
      },
      "execution_count": null,
      "outputs": [
        {
          "output_type": "stream",
          "name": "stdout",
          "text": [
            "[0 1 0 1]\n"
          ]
        }
      ]
    },
    {
      "cell_type": "code",
      "source": [
        "import numpy as np\n",
        "from sklearn.linear_model import Perceptron\n",
        "from sklearn import datasets\n",
        "from sklearn.model_selection import train_test_split\n",
        "from sklearn.metrics import accuracy_score\n",
        "from sklearn.preprocessing import StandardScaler\n",
        "iris=datasets.load_iris()\n",
        "X=iris.data\n",
        "y=iris.target\n",
        "print(X[:5])\n",
        "print(y[:5])"
      ],
      "metadata": {
        "colab": {
          "base_uri": "https://localhost:8080/"
        },
        "id": "KHj1pKrPzNrD",
        "outputId": "4cb63609-113c-441c-b358-2495c2ab6bbf"
      },
      "execution_count": null,
      "outputs": [
        {
          "output_type": "stream",
          "name": "stdout",
          "text": [
            "[[5.1 3.5 1.4 0.2]\n",
            " [4.9 3.  1.4 0.2]\n",
            " [4.7 3.2 1.3 0.2]\n",
            " [4.6 3.1 1.5 0.2]\n",
            " [5.  3.6 1.4 0.2]]\n",
            "[0 0 0 0 0]\n"
          ]
        }
      ]
    },
    {
      "cell_type": "code",
      "source": [
        "X_train,X_test,y_train,y_test=train_test_split(X,y,test_size=0.5)\n",
        "SC=StandardScaler()\n",
        "SC.fit(X_train)\n",
        "X_train_std=SC.transform(X_train)\n",
        "X_test_std=SC.transform(X_test)\n",
        "print(X_train_std[:5],X_train[:5])\n",
        "print(y[:5])\n"
      ],
      "metadata": {
        "colab": {
          "base_uri": "https://localhost:8080/"
        },
        "id": "tzn9OeaD325w",
        "outputId": "f7cae21e-f0ab-4ad2-caa6-71fa0d035496"
      },
      "execution_count": null,
      "outputs": [
        {
          "output_type": "stream",
          "name": "stdout",
          "text": [
            "[[-1.14410653 -0.33873809 -1.11810608 -1.22138136]\n",
            " [-1.14410653 -0.10566142 -1.00976247 -1.09537915]\n",
            " [ 0.60232474 -0.57181475  1.15710978  0.9206561 ]\n",
            " [-0.79482027  0.59356857 -1.06393427 -1.09537915]\n",
            " [ 2.23232726 -1.27104474  1.86134326  1.55066711]] [[4.8 3.  1.4 0.1]\n",
            " [4.8 3.1 1.6 0.2]\n",
            " [6.3 2.9 5.6 1.8]\n",
            " [5.1 3.4 1.5 0.2]\n",
            " [7.7 2.6 6.9 2.3]]\n",
            "[0 0 0 0 0]\n"
          ]
        }
      ]
    },
    {
      "cell_type": "code",
      "source": [
        "model = Perceptron(max_iter = 40, eta0 = 0.1, random_state=0)\n",
        "model.fit(X_train_std,y_train)\n",
        "y_pred= model.predict(X_test_std)\n",
        "print(y_pred)\n",
        "print(y_test)\n",
        "print('Độ chính xác mô hình', accuracy_score(y_test,y_pred))"
      ],
      "metadata": {
        "colab": {
          "base_uri": "https://localhost:8080/"
        },
        "id": "ZIUGZYG1_Jxm",
        "outputId": "649775b1-cc3b-41e3-f89d-717a99d65cc0"
      },
      "execution_count": null,
      "outputs": [
        {
          "output_type": "stream",
          "name": "stdout",
          "text": [
            "[2 2 2 2 0 1 2 1 1 2 2 1 1 2 0 2 1 1 2 1 2 2 2 0 0 2 1 2 2 1 0 1 2 2 1 0 0\n",
            " 1 1 0 2 0 0 2 0 1 1 0 1 0 1 2 1 2 2 1 1 0 2 0 2 2 1 0 2 2 2 1 2 2 1 1 0 1\n",
            " 1]\n",
            "[1 2 2 2 0 1 2 1 1 1 2 1 1 2 0 1 1 1 2 2 2 2 2 0 0 1 1 2 2 1 0 1 1 2 2 0 0\n",
            " 1 1 0 2 0 0 2 0 1 2 0 1 0 1 2 1 2 2 0 1 0 1 0 2 2 1 0 2 2 2 1 2 2 1 1 0 1\n",
            " 1]\n",
            "Độ chính xác mô hình 0.8666666666666667\n"
          ]
        }
      ]
    },
    {
      "cell_type": "code",
      "source": [
        "import pandas as pd\n",
        "url='crabs.csv'\n",
        "data=pd.read_csv(url)\n",
        "import matplotlib.pyplot as plt\n"
      ],
      "metadata": {
        "id": "f94vKBQhBl1V"
      },
      "execution_count": null,
      "outputs": []
    },
    {
      "cell_type": "code",
      "source": [
        "data[\"sex\"].replace({\"M\":1,\"F\":0},inplace = True)\n",
        "data[\"speies\"].replace({'B':1, 'O':0}, inplace = True)\n",
        "print(data)"
      ],
      "metadata": {
        "colab": {
          "base_uri": "https://localhost:8080/"
        },
        "id": "TUM4LAusDlML",
        "outputId": "86fb142a-997b-410e-a112-63f456545465"
      },
      "execution_count": null,
      "outputs": [
        {
          "output_type": "stream",
          "name": "stdout",
          "text": [
            "     speies  sex  index  fontallip  rearwidth  length  width  depth\n",
            "0         1    1      1        8.1        6.7    16.1   19.0    7.0\n",
            "1         1    1      2        8.8        7.7    18.1   20.8    7.4\n",
            "2         1    1      3        9.2        7.8    19.0   22.4    7.7\n",
            "3         1    1      4        9.6        7.9    20.1   23.1    8.2\n",
            "4         1    1      5        9.8        8.0    20.3   23.0    8.2\n",
            "..      ...  ...    ...        ...        ...     ...    ...    ...\n",
            "195       0    0     46       21.4       18.0    41.2   46.2   18.7\n",
            "196       0    0     47       21.7       17.1    41.7   47.2   19.6\n",
            "197       0    0     48       21.9       17.2    42.6   47.4   19.5\n",
            "198       0    0     49       22.5       17.2    43.0   48.7   19.8\n",
            "199       0    0     50       23.1       20.2    46.2   52.5   21.1\n",
            "\n",
            "[200 rows x 8 columns]\n"
          ]
        }
      ]
    },
    {
      "cell_type": "code",
      "source": [],
      "metadata": {
        "id": "Ktf5E8hpH4av"
      },
      "execution_count": null,
      "outputs": []
    }
  ]
}