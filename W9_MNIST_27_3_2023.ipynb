{
  "nbformat": 4,
  "nbformat_minor": 0,
  "metadata": {
    "colab": {
      "provenance": [],
      "authorship_tag": "ABX9TyONdiDbeE92WTiNio5CLedR",
      "include_colab_link": true
    },
    "kernelspec": {
      "name": "python3",
      "display_name": "Python 3"
    },
    "language_info": {
      "name": "python"
    }
  },
  "cells": [
    {
      "cell_type": "markdown",
      "metadata": {
        "id": "view-in-github",
        "colab_type": "text"
      },
      "source": [
        "<a href=\"https://colab.research.google.com/github/thoxinloi/ai/blob/main/W9_MNIST_27_3_2023.ipynb\" target=\"_parent\"><img src=\"https://colab.research.google.com/assets/colab-badge.svg\" alt=\"Open In Colab\"/></a>"
      ]
    },
    {
      "cell_type": "code",
      "execution_count": null,
      "metadata": {
        "id": "YBvo3JRsqKoc"
      },
      "outputs": [],
      "source": [
        "from keras.datasets import mnist\n",
        "(train_images,train_labels),(test_images,test_labels)=mnist.load_data()"
      ]
    },
    {
      "cell_type": "code",
      "source": [
        "from numpy import show_config\n",
        "import matplotlib.pyplot as plt\n",
        "hinh = train_images[100]\n",
        "plt.imshow(hinh,cmap=plt.cm.binary)\n",
        "plt.show\n",
        "print('So nay la:',train_labels[100])\n",
        "\n"
      ],
      "metadata": {
        "colab": {
          "base_uri": "https://localhost:8080/",
          "height": 282
        },
        "id": "YBGSMEaYq10a",
        "outputId": "e130cc68-7ed5-4d1e-8af8-9f1ebfa01692"
      },
      "execution_count": null,
      "outputs": [
        {
          "output_type": "stream",
          "name": "stdout",
          "text": [
            "So nay la: 5\n"
          ]
        },
        {
          "output_type": "display_data",
          "data": {
            "text/plain": [
              "<Figure size 432x288 with 1 Axes>"
            ],
            "image/png": "[encoded data removed]"
          },
          "metadata": {
            "needs_background": "light"
          }
        }
      ]
    },
    {
      "cell_type": "code",
      "source": [
        "for i in range (10):\n",
        "   plt.subplot(3,5,i+1)\n",
        "   plt.tight_layout()\n",
        "   plt.imshow(train_images[i],cmap='gray',interpolation='none')\n",
        "   plt.title('So:{}'.format(train_labels[i]))\n",
        "   plt.xticks([])\n",
        "   plt.yticks([])"
      ],
      "metadata": {
        "colab": {
          "base_uri": "https://localhost:8080/",
          "height": 196
        },
        "id": "suWYZgZ7sPrv",
        "outputId": "53b71ef2-f65d-4146-ba2e-6ede55943188"
      },
      "execution_count": null,
      "outputs": [
        {
          "output_type": "display_data",
          "data": {
            "text/plain": [
              "<Figure size 432x288 with 10 Axes>"
            ],
            "image/png": "[encoded data removed]"
          },
          "metadata": {}
        }
      ]
    },
    {
      "cell_type": "code",
      "source": [
        "from keras import models\n",
        "from keras.layers import Dense\n",
        "from keras.models import Sequential\n",
        "\n",
        "model=Sequential()\n",
        "model.add (Dense(512,activation='relu',input_shape=(28*28,),name='Lop1'))\n",
        "model.add (Dense(10,activation='softmax',name='Lopra'))\n",
        "model.summary()"
      ],
      "metadata": {
        "colab": {
          "base_uri": "https://localhost:8080/"
        },
        "id": "sEy_9OK6tiI5",
        "outputId": "451d2dff-4050-497b-b115-a59a9c0fb3d1"
      },
      "execution_count": null,
      "outputs": [
        {
          "output_type": "stream",
          "name": "stdout",
          "text": [
            "Model: \"sequential\"\n",
            "_________________________________________________________________\n",
            " Layer (type)                Output Shape              Param #   \n",
            "=================================================================\n",
            " Lop1 (Dense)                (None, 512)               401920    \n",
            "                                                                 \n",
            " Lopra (Dense)               (None, 10)                5130      \n",
            "                                                                 \n",
            "=================================================================\n",
            "Total params: 407,050\n",
            "Trainable params: 407,050\n",
            "Non-trainable params: 0\n",
            "_________________________________________________________________\n"
          ]
        }
      ]
    },
    {
      "cell_type": "code",
      "source": [
        "train_images=train_images.reshape((60000,28*28))\n",
        "train_images=train_images.astype('float32')/255"
      ],
      "metadata": {
        "id": "s2nr-0FrwQY-"
      },
      "execution_count": null,
      "outputs": []
    },
    {
      "cell_type": "code",
      "source": [
        "test_images=test_images.reshape((10000,28*28)) \n",
        "test_images=test_images.astype('float32')/255"
      ],
      "metadata": {
        "id": "wfAFQJUOzUyT"
      },
      "execution_count": null,
      "outputs": []
    },
    {
      "cell_type": "code",
      "source": [
        "from keras.utils import to_categorical # one hot encoding\n",
        "train_labels=to_categorical(train_labels,10)\n",
        "test_labels=to_categorical(test_labels,10)"
      ],
      "metadata": {
        "id": "6ySkALx0zsDk"
      },
      "execution_count": null,
      "outputs": []
    },
    {
      "cell_type": "code",
      "source": [
        "model.compile(optimizer='rmsprop', loss='categorical_crossentropy', metrics=['accuracy'])\n",
        "model.fit(train_images,train_labels,epochs=10,batch_size=128)\n",
        "test_loss,test_acc=model.evaluate(test_images,test_labels)\n",
        "print('Độ chính xác trên tập kiểm tra :',test_acc)\n",
        "print('Hàm mất mát trên tập kiểm tra :',test_loss)\n",
        "\n"
      ],
      "metadata": {
        "colab": {
          "base_uri": "https://localhost:8080/"
        },
        "id": "F098Vw-A0d38",
        "outputId": "c47f3b0c-0365-40d6-9297-1c3f1a38913b"
      },
      "execution_count": null,
      "outputs": [
        {
          "output_type": "stream",
          "name": "stdout",
          "text": [
            "Epoch 1/10\n",
            "469/469 [==============================] - 4s 7ms/step - loss: 0.2616 - accuracy: 0.9250\n",
            "Epoch 2/10\n",
            "469/469 [==============================] - 4s 8ms/step - loss: 0.1067 - accuracy: 0.9684\n",
            "Epoch 3/10\n",
            "469/469 [==============================] - 3s 7ms/step - loss: 0.0707 - accuracy: 0.9789\n",
            "Epoch 4/10\n",
            "469/469 [==============================] - 3s 7ms/step - loss: 0.0511 - accuracy: 0.9844\n",
            "Epoch 5/10\n",
            "469/469 [==============================] - 4s 7ms/step - loss: 0.0388 - accuracy: 0.9883\n",
            "Epoch 6/10\n",
            "469/469 [==============================] - 3s 7ms/step - loss: 0.0290 - accuracy: 0.9912\n",
            "Epoch 7/10\n",
            "469/469 [==============================] - 3s 7ms/step - loss: 0.0219 - accuracy: 0.9934\n",
            "Epoch 8/10\n",
            "469/469 [==============================] - 3s 7ms/step - loss: 0.0164 - accuracy: 0.9956\n",
            "Epoch 9/10\n",
            "469/469 [==============================] - 4s 8ms/step - loss: 0.0131 - accuracy: 0.9965\n",
            "Epoch 10/10\n",
            "469/469 [==============================] - 3s 7ms/step - loss: 0.0092 - accuracy: 0.9977\n",
            "313/313 [==============================] - 1s 2ms/step - loss: 0.0664 - accuracy: 0.9815\n",
            "Độ chính xác trên tập kiểm tra : 0.9815000295639038\n",
            "Hàm mất mát trên tập kiểm tra : 0.06638215482234955\n"
          ]
        }
      ]
    },
    {
      "cell_type": "code",
      "source": [
        "from keras.utils import load_img\n",
        "import matplotlib.pyplot as plt\n",
        "import numpy as np\n",
        "from keras.utils.image_utils import img_to_array\n",
        "url='8.jpg'\n",
        "img=load_img(url)\n",
        "plt.imshow(img)\n",
        "img=load_img(url,target_size=(28,28))\n",
        "img=img_to_array(img)\n",
        "img=img[:,:,0]\n",
        "img=img.reshape(1,28*28)\n",
        "img=img.astype('float32')\n",
        "img=img/255\n",
        "np.argmax(model.predict(img),axis=-1)\n",
        "\n"
      ],
      "metadata": {
        "colab": {
          "base_uri": "https://localhost:8080/",
          "height": 304
        },
        "id": "PlfW9McI997Z",
        "outputId": "617f08d7-4f00-458b-c241-e02dd95296a7"
      },
      "execution_count": null,
      "outputs": [
        {
          "output_type": "stream",
          "name": "stdout",
          "text": [
            "1/1 [==============================] - 0s 118ms/step\n"
          ]
        },
        {
          "output_type": "execute_result",
          "data": {
            "text/plain": [
              "array([8])"
            ]
          },
          "metadata": {},
          "execution_count": 63
        },
        {
          "output_type": "display_data",
          "data": {
            "text/plain": [
              "<Figure size 432x288 with 1 Axes>"
            ],
            "image/png": "[encoded data removed]"
          },
          "metadata": {
            "needs_background": "light"
          }
        }
      ]
    }
  ]
}