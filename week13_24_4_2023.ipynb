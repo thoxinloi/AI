{
  "nbformat": 4,
  "nbformat_minor": 0,
  "metadata": {
    "colab": {
      "provenance": [],
      "mount_file_id": "10SOsVVKzM9jr_VF3Z29jrszUW1Ft6He9",
      "authorship_tag": "ABX9TyMoZVUPeg0orp4ULbibn0YK",
      "include_colab_link": true
    },
    "kernelspec": {
      "name": "python3",
      "display_name": "Python 3"
    },
    "language_info": {
      "name": "python"
    }
  },
  "cells": [
    {
      "cell_type": "markdown",
      "metadata": {
        "id": "view-in-github",
        "colab_type": "text"
      },
      "source": [
        "<a href=\"https://colab.research.google.com/github/thoxinloi/ai/blob/main/week13_24_4_2023.ipynb\" target=\"_parent\"><img src=\"https://colab.research.google.com/assets/colab-badge.svg\" alt=\"Open In Colab\"/></a>"
      ]
    },
    {
      "cell_type": "markdown",
      "source": [
        "Youtube Search"
      ],
      "metadata": {
        "id": "aU2Pv0oTHZ2X"
      }
    },
    {
      "cell_type": "code",
      "execution_count": null,
      "metadata": {
        "colab": {
          "base_uri": "https://localhost:8080/"
        },
        "id": "1V7ifsxQ51cB",
        "outputId": "d72630bd-6acb-4728-96a0-7fa3d91d72ed"
      },
      "outputs": [
        {
          "output_type": "stream",
          "name": "stdout",
          "text": [
            "Looking in indexes: https://pypi.org/simple, https://us-python.pkg.dev/colab-wheels/public/simple/\n",
            "Collecting youtube_search\n",
            "  Downloading youtube_search-2.1.2-py3-none-any.whl (3.4 kB)\n",
            "Requirement already satisfied: requests in /usr/local/lib/python3.9/dist-packages (from youtube_search) (2.27.1)\n",
            "Requirement already satisfied: idna<4,>=2.5 in /usr/local/lib/python3.9/dist-packages (from requests->youtube_search) (3.4)\n",
            "Requirement already satisfied: certifi>=2017.4.17 in /usr/local/lib/python3.9/dist-packages (from requests->youtube_search) (2022.12.7)\n",
            "Requirement already satisfied: charset-normalizer~=2.0.0 in /usr/local/lib/python3.9/dist-packages (from requests->youtube_search) (2.0.12)\n",
            "Requirement already satisfied: urllib3<1.27,>=1.21.1 in /usr/local/lib/python3.9/dist-packages (from requests->youtube_search) (1.26.15)\n",
            "Installing collected packages: youtube_search\n",
            "Successfully installed youtube_search-2.1.2\n"
          ]
        }
      ],
      "source": [
        "pip install youtube_search"
      ]
    },
    {
      "cell_type": "code",
      "source": [
        "from youtube_search import YoutubeSearch\n",
        "import webbrowser\n",
        "mysong=input('Nhập vào tên bài hát cân tìm')\n",
        "result=YoutubeSearch(mysong,max_results=10).to_dict()\n",
        "print(result)\n",
        "url='http://www.youtube.com'+result[0]['url_suffix']\n",
        "print(url)\n",
        "webbrowser.open(url)\n",
        "print('Bai hat yeu thich cua ban da duoc mo')"
      ],
      "metadata": {
        "colab": {
          "base_uri": "https://localhost:8080/"
        },
        "id": "6HlLlX1P9Zeu",
        "outputId": "39f691b8-d69a-4aac-9407-ae053711981b"
      },
      "execution_count": null,
      "outputs": [
        {
          "output_type": "stream",
          "name": "stdout",
          "text": [
            "Nhập vào tên bài hát cân tìmKill Bill\n",
            "[{'id': 'MSRcC626prw', 'thumbnails': ['https://i.ytimg.com/vi/MSRcC626prw/hq720.jpg?sqp=-oaymwEjCOgCEMoBSFryq4qpAxUIARUAAAAAGAElAADIQj0AgKJDeAE=&rs=AOn4CLCBT6Z-Io7uxO5Dp_MdZxYRwU-4Jg', 'https://i.ytimg.com/vi/MSRcC626prw/hq720.jpg?sqp=-oaymwEXCNAFEJQDSFryq4qpAwkIARUAAIhCGAE=&rs=AOn4CLBMPLB1c7SqJRmuY-c_KeUA2efYaQ'], 'title': 'SZA - Kill Bill (Official Video)', 'long_desc': None, 'channel': 'SZA', 'duration': '4:36', 'views': '58,207,256 views', 'publish_time': '3 months ago', 'url_suffix': '/watch?v=MSRcC626prw&pp=ygUJS2lsbCBCaWxs'}, {'id': 'SQnc1QibapQ', 'thumbnails': ['https://i.ytimg.com/vi/SQnc1QibapQ/hq720.jpg?sqp=-oaymwEjCOgCEMoBSFryq4qpAxUIARUAAAAAGAElAADIQj0AgKJDeAE=&rs=AOn4CLBmJqHGi5PMbncrNxVxAIFmp-qacw', 'https://i.ytimg.com/vi/SQnc1QibapQ/hq720.jpg?sqp=-oaymwEXCNAFEJQDSFryq4qpAwkIARUAAIhCGAE=&rs=AOn4CLAcUJbQz-m6AnklpKp-gJpZut5k1Q'], 'title': 'SZA - Kill Bill (Audio)', 'long_desc': None, 'channel': 'SZA', 'duration': '2:36', 'views': '43,758,328 views', 'publish_time': '4 months ago', 'url_suffix': '/watch?v=SQnc1QibapQ&pp=ygUJS2lsbCBCaWxs'}, {'id': 'uP_iLS38Tdo', 'thumbnails': ['https://i.ytimg.com/vi/uP_iLS38Tdo/hq720.jpg?sqp=-oaymwEjCOgCEMoBSFryq4qpAxUIARUAAAAAGAElAADIQj0AgKJDeAE=&rs=AOn4CLDoTGYHSsitNoow8jZvjbC7e-PPdw', 'https://i.ytimg.com/vi/uP_iLS38Tdo/hq720.jpg?sqp=-oaymwEXCNAFEJQDSFryq4qpAwkIARUAAIhCGAE=&rs=AOn4CLCjmuwAhHLrdeN8SQrb-n5J2tbB4g'], 'title': 'SZA - Kill Bill (Lyrics)', 'long_desc': None, 'channel': 'Dan Music', 'duration': '2:36', 'views': '13,881,392 views', 'publish_time': '4 months ago', 'url_suffix': '/watch?v=uP_iLS38Tdo&pp=ygUJS2lsbCBCaWxs'}, {'id': 'ZFjIMowsudA', 'thumbnails': ['https://i.ytimg.com/vi/ZFjIMowsudA/hqdefault.jpg?sqp=-oaymwE9COADEI4CSFryq4qpAy8IARUAAAAAGAElAADIQj0AgKJDeAHwAQH4Af4JgALQBYoCDAgAEAEYfyAYKBMwDw==&rs=AOn4CLDPr2i7tfGR0FIko7vAJ1O5HI0KWw'], 'title': 'SZA - Kill Bill Feat. Doja Cat (Remix)', 'long_desc': None, 'channel': 'Doja Cat', 'duration': '2:56', 'views': '1,541,998 views', 'publish_time': '9 days ago', 'url_suffix': '/watch?v=ZFjIMowsudA&pp=ygUJS2lsbCBCaWxs'}, {'id': 'TsulQZDKM-g', 'thumbnails': ['https://i.ytimg.com/vi/TsulQZDKM-g/hq720.jpg?sqp=-oaymwEjCOgCEMoBSFryq4qpAxUIARUAAAAAGAElAADIQj0AgKJDeAE=&rs=AOn4CLAqgn3624uwr07eNX7i9VgA9spMrQ', 'https://i.ytimg.com/vi/TsulQZDKM-g/hq720.jpg?sqp=-oaymwEXCNAFEJQDSFryq4qpAwkIARUAAIhCGAE=&rs=AOn4CLBAT_vlaUSZw5A-NFh10Gy1V2_z7Q'], 'title': 'Kill Bill', 'long_desc': None, 'channel': 'SZA', 'duration': '2:56', 'views': '1,242,479 views', 'publish_time': 0, 'url_suffix': '/watch?v=TsulQZDKM-g&pp=ygUJS2lsbCBCaWxs'}, {'id': 'ecimuK20dSA', 'thumbnails': ['https://i.ytimg.com/vi/ecimuK20dSA/hq720.jpg?sqp=-oaymwEjCOgCEMoBSFryq4qpAxUIARUAAAAAGAElAADIQj0AgKJDeAE=&rs=AOn4CLCI2W8YPfcw3XbHxq1LxcVrGQZR8Q', 'https://i.ytimg.com/vi/ecimuK20dSA/hq720.jpg?sqp=-oaymwEXCNAFEJQDSFryq4qpAwkIARUAAIhCGAE=&rs=AOn4CLDLVSbYr-h4onr6-jrwfSCPkNGdWQ'], 'title': 'Kill Bill: Volume 1 | The Bride vs The Crazy 88', 'long_desc': None, 'channel': 'RokettoJanpu', 'duration': '9:22', 'views': '1,809,518 views', 'publish_time': '4 years ago', 'url_suffix': '/watch?v=ecimuK20dSA&pp=ygUJS2lsbCBCaWxs'}, {'id': 'sk6rMb8OsQY', 'thumbnails': ['https://i.ytimg.com/vi/sk6rMb8OsQY/hq720.jpg?sqp=-oaymwEjCOgCEMoBSFryq4qpAxUIARUAAAAAGAElAADIQj0AgKJDeAE=&rs=AOn4CLCvtx-C48qomWyCnSeh9eIpj4DSDg', 'https://i.ytimg.com/vi/sk6rMb8OsQY/hq720.jpg?sqp=-oaymwEXCNAFEJQDSFryq4qpAwkIARUAAIhCGAE=&rs=AOn4CLD_B4FPjus7pygqyuwfT65gs-IFBw'], 'title': 'SZA - Kill Bill (Lyrics)', 'long_desc': None, 'channel': '7clouds', 'duration': '2:35', 'views': '6,673,008 views', 'publish_time': '4 months ago', 'url_suffix': '/watch?v=sk6rMb8OsQY&pp=ygUJS2lsbCBCaWxs'}, {'id': '7kSuas6mRpk', 'thumbnails': ['https://i.ytimg.com/vi/7kSuas6mRpk/hq720.jpg?sqp=-oaymwEjCOgCEMoBSFryq4qpAxUIARUAAAAAGAElAADIQj0AgKJDeAE=&rs=AOn4CLCcnNnbmssWYBGMdy2ANYBYms0I_Q', 'https://i.ytimg.com/vi/7kSuas6mRpk/hq720.jpg?sqp=-oaymwEXCNAFEJQDSFryq4qpAwkIARUAAIhCGAE=&rs=AOn4CLAkU8NqRvx87f8MJF_dwID8RlGhXA'], 'title': 'Kill Bill: Vol. 1 (2003) Official Trailer - Uma Thurman, Lucy Liu Action Movie HD', 'long_desc': None, 'channel': 'Rotten Tomatoes Classic Trailers', 'duration': '2:33', 'views': '3,479,896 views', 'publish_time': '9 years ago', 'url_suffix': '/watch?v=7kSuas6mRpk&pp=ygUJS2lsbCBCaWxs'}, {'id': 'M7lfgyrloGY', 'thumbnails': ['https://i.ytimg.com/vi/M7lfgyrloGY/hq720.jpg?sqp=-oaymwEjCOgCEMoBSFryq4qpAxUIARUAAAAAGAElAADIQj0AgKJDeAE=&rs=AOn4CLAQV_mK254FdaB6QC0OjB2n9--H8g', 'https://i.ytimg.com/vi/M7lfgyrloGY/hq720.jpg?sqp=-oaymwEXCNAFEJQDSFryq4qpAwkIARUAAIhCGAE=&rs=AOn4CLDxSlKGV_xLXF-hn6yRGouA0WxFFQ'], 'title': 'Beatrix Kiddo vs. Elle Driver [Kill Bill: Vol. 2]', 'long_desc': None, 'channel': 'Catfight Paradise', 'duration': '6:33', 'views': '2,153,076 views', 'publish_time': '3 years ago', 'url_suffix': '/watch?v=M7lfgyrloGY&pp=ygUJS2lsbCBCaWxs'}, {'id': '6Uh00zIqPFc', 'thumbnails': ['https://i.ytimg.com/vi/6Uh00zIqPFc/hq720.jpg?sqp=-oaymwEjCOgCEMoBSFryq4qpAxUIARUAAAAAGAElAADIQj0AgKJDeAE=&rs=AOn4CLCv83dTn0GjVoRnketVsvHKWSW7_Q', 'https://i.ytimg.com/vi/6Uh00zIqPFc/hq720.jpg?sqp=-oaymwEXCNAFEJQDSFryq4qpAwkIARUAAIhCGAE=&rs=AOn4CLDYRuoSNbcl93MCf3kErncEI783Xg'], 'title': 'sza - kill bill (cover) | nursena yener', 'long_desc': None, 'channel': 'Nursena Yener', 'duration': '2:38', 'views': '22,663 views', 'publish_time': '2 days ago', 'url_suffix': '/watch?v=6Uh00zIqPFc&pp=ygUJS2lsbCBCaWxs'}]\n",
            "http://www.youtube.com/watch?v=MSRcC626prw&pp=ygUJS2lsbCBCaWxs\n",
            "Bai hat yeu thich cua ban da duoc mo\n"
          ]
        }
      ]
    },
    {
      "cell_type": "code",
      "source": [
        "pip install openpyxl"
      ],
      "metadata": {
        "colab": {
          "base_uri": "https://localhost:8080/"
        },
        "id": "9XFgF5ar-N4G",
        "outputId": "4f6eace3-cb2f-4c11-fbbf-6c8d0343c634"
      },
      "execution_count": null,
      "outputs": [
        {
          "output_type": "stream",
          "name": "stdout",
          "text": [
            "Looking in indexes: https://pypi.org/simple, https://us-python.pkg.dev/colab-wheels/public/simple/\n",
            "Requirement already satisfied: openpyxl in /usr/local/lib/python3.9/dist-packages (3.0.10)\n",
            "Requirement already satisfied: et-xmlfile in /usr/local/lib/python3.9/dist-packages (from openpyxl) (1.1.0)\n"
          ]
        }
      ]
    },
    {
      "cell_type": "code",
      "source": [
        "from youtube_search import YoutubeSearch\n",
        "import webbrowser\n",
        "from openpyxl import Workbook\n",
        "data=Workbook()\n",
        "sheet=data.active\n",
        "mysong=input('Xin mời bạn chọn tên bài hát')\n",
        "print(mysong)\n",
        "result=YoutubeSearch(mysong,max_results=10).to_dict()\n",
        "print(result)\n",
        "for i in range(10):\n",
        "    print(result[i] ['title'])\n",
        "    print(result[i] ['url_suffix'])\n",
        "    url='https://www.youtube.com'+ result[i] ['url_suffix']\n",
        "    print(url)\n",
        "    sheet['A'+str(i+1)]=i+1\n",
        "    sheet['B'+str(i+1)]=result[i]['title']\n",
        "    sheet['C'+str(i+1)]=result[i]['url_suffix']\n",
        "    sheet['D'+str(i+1)]=result[i]['views']\n",
        "    sheet['E'+str(i+1)]=result[i]['channel']\n",
        "    #webbrowser.open(url)\n",
        "data.save('UTE.xlsx')"
      ],
      "metadata": {
        "colab": {
          "base_uri": "https://localhost:8080/"
        },
        "id": "wxtxA9ni_b9Z",
        "outputId": "57dd5908-ad22-45bf-be82-79c1668af068"
      },
      "execution_count": null,
      "outputs": [
        {
          "output_type": "stream",
          "name": "stdout",
          "text": [
            "Xin mời bạn chọn tên bài hátdowntown\n",
            "downtown\n",
            "[{'id': 'JGhoLcsr8GA', 'thumbnails': ['https://i.ytimg.com/vi/JGhoLcsr8GA/hqdefault.jpg?sqp=-oaymwEjCOADEI4CSFryq4qpAxUIARUAAAAAGAElAADIQj0AgKJDeAE=&rs=AOn4CLB4gLH__h_pw2OGrc66vARFFuopwg'], 'title': 'MACKLEMORE & RYAN LEWIS - DOWNTOWN (OFFICIAL MUSIC VIDEO)', 'long_desc': None, 'channel': 'Macklemore', 'duration': '5:23', 'views': '237,735,175 views', 'publish_time': '7 years ago', 'url_suffix': '/watch?v=JGhoLcsr8GA&pp=ygUIZG93bnRvd24%3D'}, {'id': 'wlS6Ix7mA0w', 'thumbnails': ['https://i.ytimg.com/vi/wlS6Ix7mA0w/hq720.jpg?sqp=-oaymwEjCOgCEMoBSFryq4qpAxUIARUAAAAAGAElAADIQj0AgKJDeAE=&rs=AOn4CLAMcIV3cK5Hoj58vl2f9y_0BYScqQ', 'https://i.ytimg.com/vi/wlS6Ix7mA0w/hq720.jpg?sqp=-oaymwEXCNAFEJQDSFryq4qpAwkIARUAAIhCGAE=&rs=AOn4CLBBZ5AcTRHurgZCpHDcGtN3NxaQNQ'], 'title': 'Anitta & J Balvin - Downtown [Official Music Video]', 'long_desc': None, 'channel': 'Anitta', 'duration': '3:20', 'views': '678,500,150 views', 'publish_time': '5 years ago', 'url_suffix': '/watch?v=wlS6Ix7mA0w&pp=ygUIZG93bnRvd24%3D'}, {'id': 'Zx06XNfDvk0', 'thumbnails': ['https://i.ytimg.com/vi/Zx06XNfDvk0/hqdefault.jpg?sqp=-oaymwE9COADEI4CSFryq4qpAy8IARUAAAAAGAElAADIQj0AgKJDeAHwAQH4Ab4DgALQAooCDAgAEAEYYCBgKGAwDw==&rs=AOn4CLCoa-DP8GAqtbD6GHVWfZdUcKqxRg'], 'title': 'Petula Clark   Downtown. original version', 'long_desc': None, 'channel': 'AL HASHS', 'duration': '3:03', 'views': '19,584,963 views', 'publish_time': '10 years ago', 'url_suffix': '/watch?v=Zx06XNfDvk0&pp=ygUIZG93bnRvd24%3D'}, {'id': 'wzKL-bQKcgA', 'thumbnails': ['https://i.ytimg.com/vi/wzKL-bQKcgA/hq720.jpg?sqp=-oaymwEjCOgCEMoBSFryq4qpAxUIARUAAAAAGAElAADIQj0AgKJDeAE=&rs=AOn4CLCAmXEAdMJUCUS34RPFuBceyuAXjw', 'https://i.ytimg.com/vi/wzKL-bQKcgA/hq720.jpg?sqp=-oaymwEXCNAFEJQDSFryq4qpAwkIARUAAIhCGAE=&rs=AOn4CLDzhOP97VYFzOgV278_HjsNDD5yRA'], 'title': 'Anitta & J Balvin - Downtown (Official Lyric Video) ft. Lele Pons & Juanpa Zurita', 'long_desc': None, 'channel': 'Lele Pons', 'duration': '3:14', 'views': '357,706,529 views', 'publish_time': '5 years ago', 'url_suffix': '/watch?v=wzKL-bQKcgA&pp=ygUIZG93bnRvd24%3D'}, {'id': '5ViSMGCqsvE', 'thumbnails': ['https://i.ytimg.com/vi/5ViSMGCqsvE/hqdefault.jpg?sqp=-oaymwEjCOADEI4CSFryq4qpAxUIARUAAAAAGAElAADIQj0AgKJDeAE=&rs=AOn4CLCyQgpgyY8LVfs1mPBYZNLdAdEfFw'], 'title': 'August Alsina - Downtown ft. Kidd Kidd (Official Video)', 'long_desc': None, 'channel': 'August Alsina', 'duration': '5:01', 'views': '31,801,365 views', 'publish_time': '9 years ago', 'url_suffix': '/watch?v=5ViSMGCqsvE&pp=ygUIZG93bnRvd24%3D'}, {'id': '5zs8W_JAoVo', 'thumbnails': ['https://i.ytimg.com/vi/5zs8W_JAoVo/hq720.jpg?sqp=-oaymwEjCOgCEMoBSFryq4qpAxUIARUAAAAAGAElAADIQj0AgKJDeAE=&rs=AOn4CLCRmy1VcbQP_rFuoKeIzNAZFkGQGA', 'https://i.ytimg.com/vi/5zs8W_JAoVo/hq720.jpg?sqp=-oaymwEXCNAFEJQDSFryq4qpAwkIARUAAIhCGAE=&rs=AOn4CLCr1izBZXTiG4DJtPaEWjVX-kTpBA'], 'title': 'Lil Peep - Downtown (Extended+Lyrics)', 'long_desc': None, 'channel': 'Lil Meep', 'duration': '3:44', 'views': '13,598,224 views', 'publish_time': '4 years ago', 'url_suffix': '/watch?v=5zs8W_JAoVo&pp=ygUIZG93bnRvd24%3D'}, {'id': 'DQjhBhV0MAo', 'thumbnails': ['https://i.ytimg.com/vi/DQjhBhV0MAo/hq720.jpg?sqp=-oaymwE9COgCEMoBSFryq4qpAy8IARUAAAAAGAElAADIQj0AgKJDeAHwAQH4Af4JgALQBYoCDAgAEAEYQSBlKEMwDw==&rs=AOn4CLBnr5UdQGBMhufegwwXyjvPaneWHA', 'https://i.ytimg.com/vi/DQjhBhV0MAo/hq720.jpg?sqp=-oaymwExCNAFEJQDSFryq4qpAyMIARUAAIhCGAHwAQH4Af4JgALQBYoCDAgAEAEYQSBlKEMwDw==&rs=AOn4CLDhHfJs3k1NyGRLKGmbyCE84AmYow'], 'title': 'WELCOME TO NIGGAVILLE. Hundreds of teenagers flood into downtown Chicago, smashing car windows.', 'long_desc': None, 'channel': 'Walter Lee Hampton II', 'duration': '25:20', 'views': '3,590 views', 'publish_time': '5 hours ago', 'url_suffix': '/watch?v=DQjhBhV0MAo&pp=ygUIZG93bnRvd24%3D'}, {'id': '3WeSItykFyY', 'thumbnails': ['https://i.ytimg.com/vi/3WeSItykFyY/hq720.jpg?sqp=-oaymwEjCOgCEMoBSFryq4qpAxUIARUAAAAAGAElAADIQj0AgKJDeAE=&rs=AOn4CLCMxYP-MnuBFSPBW6H9LpYh1U_NHQ', 'https://i.ytimg.com/vi/3WeSItykFyY/hq720.jpg?sqp=-oaymwEXCNAFEJQDSFryq4qpAwkIARUAAIhCGAE=&rs=AOn4CLCoZWPopfTCYOqg_TLGJyubNlM9hA'], 'title': 'Lady Antebellum - Downtown', 'long_desc': None, 'channel': 'Lady A', 'duration': '5:44', 'views': '14,554,415 views', 'publish_time': '10 years ago', 'url_suffix': '/watch?v=3WeSItykFyY&pp=ygUIZG93bnRvd24%3D'}, {'id': 'WEc7aE9rmUs', 'thumbnails': ['https://i.ytimg.com/vi/WEc7aE9rmUs/hq720.jpg?sqp=-oaymwEjCOgCEMoBSFryq4qpAxUIARUAAAAAGAElAADIQj0AgKJDeAE=&rs=AOn4CLCyo22mKGaCLts6dM2G3zFI2NGR4A', 'https://i.ytimg.com/vi/WEc7aE9rmUs/hq720.jpg?sqp=-oaymwEXCNAFEJQDSFryq4qpAwkIARUAAIhCGAE=&rs=AOn4CLCDuOVkQDeDbGkqpwWxTHhKz_LwRA'], 'title': 'Downtown', 'long_desc': None, 'channel': 'petularchive', 'duration': '3:05', 'views': '608,908 views', 'publish_time': 0, 'url_suffix': '/watch?v=WEc7aE9rmUs&pp=ygUIZG93bnRvd24%3D'}, {'id': 'ubcRYsimm9M', 'thumbnails': ['https://i.ytimg.com/vi/ubcRYsimm9M/hqdefault.jpg?sqp=-oaymwEjCOADEI4CSFryq4qpAxUIARUAAAAAGAElAADIQj0AgKJDeAE=&rs=AOn4CLDLaMP3Tf5Ks4xFDUSZ_7AEEg45-Q'], 'title': 'Sarajeva, qyteti luftës dhe paqes - Downtown nga Ilnisa Agolli', 'long_desc': None, 'channel': 'Euronews Albania', 'duration': '1:03:39', 'views': '910 views', 'publish_time': '13 hours ago', 'url_suffix': '/watch?v=ubcRYsimm9M&pp=ygUIZG93bnRvd24%3D'}]\n",
            "MACKLEMORE & RYAN LEWIS - DOWNTOWN (OFFICIAL MUSIC VIDEO)\n",
            "/watch?v=JGhoLcsr8GA&pp=ygUIZG93bnRvd24%3D\n",
            "https://www.youtube.com/watch?v=JGhoLcsr8GA&pp=ygUIZG93bnRvd24%3D\n",
            "Anitta & J Balvin - Downtown [Official Music Video]\n",
            "/watch?v=wlS6Ix7mA0w&pp=ygUIZG93bnRvd24%3D\n",
            "https://www.youtube.com/watch?v=wlS6Ix7mA0w&pp=ygUIZG93bnRvd24%3D\n",
            "Petula Clark   Downtown. original version\n",
            "/watch?v=Zx06XNfDvk0&pp=ygUIZG93bnRvd24%3D\n",
            "https://www.youtube.com/watch?v=Zx06XNfDvk0&pp=ygUIZG93bnRvd24%3D\n",
            "Anitta & J Balvin - Downtown (Official Lyric Video) ft. Lele Pons & Juanpa Zurita\n",
            "/watch?v=wzKL-bQKcgA&pp=ygUIZG93bnRvd24%3D\n",
            "https://www.youtube.com/watch?v=wzKL-bQKcgA&pp=ygUIZG93bnRvd24%3D\n",
            "August Alsina - Downtown ft. Kidd Kidd (Official Video)\n",
            "/watch?v=5ViSMGCqsvE&pp=ygUIZG93bnRvd24%3D\n",
            "https://www.youtube.com/watch?v=5ViSMGCqsvE&pp=ygUIZG93bnRvd24%3D\n",
            "Lil Peep - Downtown (Extended+Lyrics)\n",
            "/watch?v=5zs8W_JAoVo&pp=ygUIZG93bnRvd24%3D\n",
            "https://www.youtube.com/watch?v=5zs8W_JAoVo&pp=ygUIZG93bnRvd24%3D\n",
            "WELCOME TO NIGGAVILLE. Hundreds of teenagers flood into downtown Chicago, smashing car windows.\n",
            "/watch?v=DQjhBhV0MAo&pp=ygUIZG93bnRvd24%3D\n",
            "https://www.youtube.com/watch?v=DQjhBhV0MAo&pp=ygUIZG93bnRvd24%3D\n",
            "Lady Antebellum - Downtown\n",
            "/watch?v=3WeSItykFyY&pp=ygUIZG93bnRvd24%3D\n",
            "https://www.youtube.com/watch?v=3WeSItykFyY&pp=ygUIZG93bnRvd24%3D\n",
            "Downtown\n",
            "/watch?v=WEc7aE9rmUs&pp=ygUIZG93bnRvd24%3D\n",
            "https://www.youtube.com/watch?v=WEc7aE9rmUs&pp=ygUIZG93bnRvd24%3D\n",
            "Sarajeva, qyteti luftës dhe paqes - Downtown nga Ilnisa Agolli\n",
            "/watch?v=ubcRYsimm9M&pp=ygUIZG93bnRvd24%3D\n",
            "https://www.youtube.com/watch?v=ubcRYsimm9M&pp=ygUIZG93bnRvd24%3D\n"
          ]
        }
      ]
    },
    {
      "cell_type": "markdown",
      "source": [
        "Speech to text"
      ],
      "metadata": {
        "id": "wR1iP24PEy0S"
      }
    },
    {
      "cell_type": "code",
      "source": [
        "pip install SpeechRecognition pydub"
      ],
      "metadata": {
        "colab": {
          "base_uri": "https://localhost:8080/"
        },
        "id": "KzTrfhZGE0uz",
        "outputId": "f6e0c1d4-2c43-43b2-cdbb-fd1011f7e481"
      },
      "execution_count": null,
      "outputs": [
        {
          "output_type": "stream",
          "name": "stdout",
          "text": [
            "Looking in indexes: https://pypi.org/simple, https://us-python.pkg.dev/colab-wheels/public/simple/\n",
            "Requirement already satisfied: SpeechRecognition in /usr/local/lib/python3.9/dist-packages (3.10.0)\n",
            "Collecting pydub\n",
            "  Downloading pydub-0.25.1-py2.py3-none-any.whl (32 kB)\n",
            "Requirement already satisfied: requests>=2.26.0 in /usr/local/lib/python3.9/dist-packages (from SpeechRecognition) (2.27.1)\n",
            "Requirement already satisfied: certifi>=2017.4.17 in /usr/local/lib/python3.9/dist-packages (from requests>=2.26.0->SpeechRecognition) (2022.12.7)\n",
            "Requirement already satisfied: idna<4,>=2.5 in /usr/local/lib/python3.9/dist-packages (from requests>=2.26.0->SpeechRecognition) (3.4)\n",
            "Requirement already satisfied: urllib3<1.27,>=1.21.1 in /usr/local/lib/python3.9/dist-packages (from requests>=2.26.0->SpeechRecognition) (1.26.15)\n",
            "Requirement already satisfied: charset-normalizer~=2.0.0 in /usr/local/lib/python3.9/dist-packages (from requests>=2.26.0->SpeechRecognition) (2.0.12)\n",
            "Installing collected packages: pydub\n",
            "Successfully installed pydub-0.25.1\n"
          ]
        }
      ]
    },
    {
      "cell_type": "code",
      "source": [
        "file='male.wav'\n",
        "import speech_recognition as sr\n",
        "r=sr.Recognizer()\n",
        "with sr.AudioFile(file) as source:\n",
        "     audio_data=r.record(source)\n",
        "     text=r.recognize_google(audio_data,language='de')\n",
        "     print(text)\n",
        "     "
      ],
      "metadata": {
        "colab": {
          "base_uri": "https://localhost:8080/"
        },
        "id": "kdZ809XdFBjh",
        "outputId": "dc3f9682-da78-4833-b5d6-64ab92048e37"
      },
      "execution_count": null,
      "outputs": [
        {
          "output_type": "stream",
          "name": "stdout",
          "text": [
            "alexandridis sites to break it be careful saiyuki per Code coverage for places to save money baby it's taking your guide to getting through the way than the Bank is expecting the way for One Countryman one holtex Edith retirement income the birth of the goodness of the thing with or without you naked Power des Workouts\n"
          ]
        }
      ]
    },
    {
      "cell_type": "code",
      "source": [
        "file='male.wav'\n",
        "import speech_recognition as sr\n",
        "r=sr.Recognizer()\n",
        "with sr.AudioFile('male.wav')\n",
        "     audio1=r.record(source,duration=4)\n",
        "     audio2=r.record(source,offset=4,duration=10)\n",
        "print(r.recognize_google(audio1,language='vi_VI'))\n",
        "print(r.recognize_google(audio2,language='en_EN'))     "
      ],
      "metadata": {
        "colab": {
          "base_uri": "https://localhost:8080/",
          "height": 131
        },
        "id": "BgolcRuIGNcN",
        "outputId": "f4a5fd3b-3544-4df9-f0c2-59d3b8de1cb8"
      },
      "execution_count": null,
      "outputs": [
        {
          "output_type": "error",
          "ename": "SyntaxError",
          "evalue": "ignored",
          "traceback": [
            "\u001b[0;36m  File \u001b[0;32m\"<ipython-input-21-437058eef356>\"\u001b[0;36m, line \u001b[0;32m4\u001b[0m\n\u001b[0;31m    with sr.AudioFile('male.wav')\u001b[0m\n\u001b[0m                                 ^\u001b[0m\n\u001b[0;31mSyntaxError\u001b[0m\u001b[0;31m:\u001b[0m invalid syntax\n"
          ]
        }
      ]
    },
    {
      "cell_type": "markdown",
      "source": [
        "text to speech"
      ],
      "metadata": {
        "id": "m5kLRhWAP7rl"
      }
    },
    {
      "cell_type": "code",
      "source": [
        "pip install gTTS"
      ],
      "metadata": {
        "colab": {
          "base_uri": "https://localhost:8080/"
        },
        "id": "KtbE3bLTP_U_",
        "outputId": "84013bf5-64e2-4822-8cd0-9d4f849bf9df"
      },
      "execution_count": null,
      "outputs": [
        {
          "output_type": "stream",
          "name": "stdout",
          "text": [
            "Looking in indexes: https://pypi.org/simple, https://us-python.pkg.dev/colab-wheels/public/simple/\n",
            "Collecting gTTS\n",
            "  Downloading gTTS-2.3.1-py3-none-any.whl (28 kB)\n",
            "Requirement already satisfied: requests<3,>=2.27 in /usr/local/lib/python3.9/dist-packages (from gTTS) (2.27.1)\n",
            "Requirement already satisfied: click<8.2,>=7.1 in /usr/local/lib/python3.9/dist-packages (from gTTS) (8.1.3)\n",
            "Requirement already satisfied: idna<4,>=2.5 in /usr/local/lib/python3.9/dist-packages (from requests<3,>=2.27->gTTS) (3.4)\n",
            "Requirement already satisfied: charset-normalizer~=2.0.0 in /usr/local/lib/python3.9/dist-packages (from requests<3,>=2.27->gTTS) (2.0.12)\n",
            "Requirement already satisfied: urllib3<1.27,>=1.21.1 in /usr/local/lib/python3.9/dist-packages (from requests<3,>=2.27->gTTS) (1.26.15)\n",
            "Requirement already satisfied: certifi>=2017.4.17 in /usr/local/lib/python3.9/dist-packages (from requests<3,>=2.27->gTTS) (2022.12.7)\n",
            "Installing collected packages: gTTS\n",
            "Successfully installed gTTS-2.3.1\n"
          ]
        }
      ]
    },
    {
      "cell_type": "code",
      "source": [
        "from gtts import gTTS\n",
        "import os\n",
        "A='Why did Mr. Koh start the online chat discussion?\\He received a damaged package.\\He has a meeting with a client soon.\\He is expecting some important documents.\\He delivered a shipment to the wrong person.'\n",
        "speak=gTTS(text=A,lang='en',slow=False)\n",
        "speak.save('toiec.mp3')"
      ],
      "metadata": {
        "id": "XDNIj2t1QImN"
      },
      "execution_count": null,
      "outputs": []
    },
    {
      "cell_type": "code",
      "source": [
        "pip install googletrans==3.1.0a0"
      ],
      "metadata": {
        "colab": {
          "base_uri": "https://localhost:8080/"
        },
        "id": "Sr1J3pmYRzW7",
        "outputId": "5f50672b-9f71-48fc-d294-c8b0baba8f47"
      },
      "execution_count": null,
      "outputs": [
        {
          "output_type": "stream",
          "name": "stdout",
          "text": [
            "Looking in indexes: https://pypi.org/simple, https://us-python.pkg.dev/colab-wheels/public/simple/\n",
            "Collecting googletrans==3.1.0a0\n",
            "  Downloading googletrans-3.1.0a0.tar.gz (19 kB)\n",
            "  Preparing metadata (setup.py) ... \u001b[?25l\u001b[?25hdone\n",
            "Collecting httpx==0.13.3\n",
            "  Downloading httpx-0.13.3-py3-none-any.whl (55 kB)\n",
            "\u001b[2K     \u001b[90m━━━━━━━━━━━━━━━━━━━━━━━━━━━━━━━━━━━━━━━━\u001b[0m \u001b[32m55.1/55.1 kB\u001b[0m \u001b[31m3.6 MB/s\u001b[0m eta \u001b[36m0:00:00\u001b[0m\n",
            "\u001b[?25hCollecting idna==2.*\n",
            "  Downloading idna-2.10-py2.py3-none-any.whl (58 kB)\n",
            "\u001b[2K     \u001b[90m━━━━━━━━━━━━━━━━━━━━━━━━━━━━━━━━━━━━━━━━\u001b[0m \u001b[32m58.8/58.8 kB\u001b[0m \u001b[31m6.1 MB/s\u001b[0m eta \u001b[36m0:00:00\u001b[0m\n",
            "\u001b[?25hRequirement already satisfied: certifi in /usr/local/lib/python3.10/dist-packages (from httpx==0.13.3->googletrans==3.1.0a0) (2022.12.7)\n",
            "Collecting httpcore==0.9.*\n",
            "  Downloading httpcore-0.9.1-py3-none-any.whl (42 kB)\n",
            "\u001b[2K     \u001b[90m━━━━━━━━━━━━━━━━━━━━━━━━━━━━━━━━━━━━━━━━\u001b[0m \u001b[32m42.6/42.6 kB\u001b[0m \u001b[31m4.0 MB/s\u001b[0m eta \u001b[36m0:00:00\u001b[0m\n",
            "\u001b[?25hCollecting chardet==3.*\n",
            "  Downloading chardet-3.0.4-py2.py3-none-any.whl (133 kB)\n",
            "\u001b[2K     \u001b[90m━━━━━━━━━━━━━━━━━━━━━━━━━━━━━━━━━━━━━━━\u001b[0m \u001b[32m133.4/133.4 kB\u001b[0m \u001b[31m9.0 MB/s\u001b[0m eta \u001b[36m0:00:00\u001b[0m\n",
            "\u001b[?25hRequirement already satisfied: sniffio in /usr/local/lib/python3.10/dist-packages (from httpx==0.13.3->googletrans==3.1.0a0) (1.3.0)\n",
            "Collecting hstspreload\n",
            "  Downloading hstspreload-2023.1.1-py3-none-any.whl (1.5 MB)\n",
            "\u001b[2K     \u001b[90m━━━━━━━━━━━━━━━━━━━━━━━━━━━━━━━━━━━━━━━━\u001b[0m \u001b[32m1.5/1.5 MB\u001b[0m \u001b[31m27.1 MB/s\u001b[0m eta \u001b[36m0:00:00\u001b[0m\n",
            "\u001b[?25hCollecting rfc3986<2,>=1.3\n",
            "  Downloading rfc3986-1.5.0-py2.py3-none-any.whl (31 kB)\n",
            "Collecting h11<0.10,>=0.8\n",
            "  Downloading h11-0.9.0-py2.py3-none-any.whl (53 kB)\n",
            "\u001b[2K     \u001b[90m━━━━━━━━━━━━━━━━━━━━━━━━━━━━━━━━━━━━━━━━\u001b[0m \u001b[32m53.6/53.6 kB\u001b[0m \u001b[31m5.9 MB/s\u001b[0m eta \u001b[36m0:00:00\u001b[0m\n",
            "\u001b[?25hCollecting h2==3.*\n",
            "  Downloading h2-3.2.0-py2.py3-none-any.whl (65 kB)\n",
            "\u001b[2K     \u001b[90m━━━━━━━━━━━━━━━━━━━━━━━━━━━━━━━━━━━━━━━━\u001b[0m \u001b[32m65.0/65.0 kB\u001b[0m \u001b[31m5.8 MB/s\u001b[0m eta \u001b[36m0:00:00\u001b[0m\n",
            "\u001b[?25hCollecting hpack<4,>=3.0\n",
            "  Downloading hpack-3.0.0-py2.py3-none-any.whl (38 kB)\n",
            "Collecting hyperframe<6,>=5.2.0\n",
            "  Downloading hyperframe-5.2.0-py2.py3-none-any.whl (12 kB)\n",
            "Building wheels for collected packages: googletrans\n",
            "  Building wheel for googletrans (setup.py) ... \u001b[?25l\u001b[?25hdone\n",
            "  Created wheel for googletrans: filename=googletrans-3.1.0a0-py3-none-any.whl size=16368 sha256=060e95141082d2c83ecabeda7762b7d8b99efb5e028443dfe4f972f30956645e\n",
            "  Stored in directory: /root/.cache/pip/wheels/50/5d/3c/8477d0af4ca2b8b1308812c09f1930863caeebc762fe265a95\n",
            "Successfully built googletrans\n",
            "Installing collected packages: rfc3986, hyperframe, hpack, h11, chardet, idna, hstspreload, h2, httpcore, httpx, googletrans\n",
            "  Attempting uninstall: chardet\n",
            "    Found existing installation: chardet 4.0.0\n",
            "    Uninstalling chardet-4.0.0:\n",
            "      Successfully uninstalled chardet-4.0.0\n",
            "  Attempting uninstall: idna\n",
            "    Found existing installation: idna 3.4\n",
            "    Uninstalling idna-3.4:\n",
            "      Successfully uninstalled idna-3.4\n",
            "Successfully installed chardet-3.0.4 googletrans-3.1.0a0 h11-0.9.0 h2-3.2.0 hpack-3.0.0 hstspreload-2023.1.1 httpcore-0.9.1 httpx-0.13.3 hyperframe-5.2.0 idna-2.10 rfc3986-1.5.0\n"
          ]
        }
      ]
    },
    {
      "cell_type": "code",
      "source": [
        "from googletrans import Translator\n",
        "translator=Translator()\n",
        "translation=translator.translate('Chúng ta luôn có thể phát triển công nghệ cùng với giá trị nhận được',dest='en')\n",
        "print(translation.text)"
      ],
      "metadata": {
        "colab": {
          "base_uri": "https://localhost:8080/"
        },
        "id": "l0LIZrspT_Xx",
        "outputId": "ca6ab343-c195-4e41-dc3c-bdb121dcbaa1"
      },
      "execution_count": null,
      "outputs": [
        {
          "output_type": "stream",
          "name": "stdout",
          "text": [
            "We can always develop technology with value received\n"
          ]
        }
      ]
    },
    {
      "cell_type": "code",
      "source": [
        "file='male.wav'\n",
        "import speech_recognition as sr\n",
        "r=sr.Recognizer()\n",
        "with sr.AudioFile(file) as source:\n",
        "     audio_data=r.record(source)\n",
        "     text=r.recognize_google(audio_data,language='de')\n",
        "     print(text)"
      ],
      "metadata": {
        "id": "TueMnEd7U7LZ"
      },
      "execution_count": null,
      "outputs": []
    }
  ]
}